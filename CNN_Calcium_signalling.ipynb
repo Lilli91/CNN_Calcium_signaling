{
 "cells": [
  {
   "cell_type": "code",
   "execution_count": 1,
   "metadata": {
    "collapsed": false
   },
   "outputs": [
    {
     "name": "stdout",
     "output_type": "stream",
     "text": [
      "Populating the interactive namespace from numpy and matplotlib\n"
     ]
    },
    {
     "name": "stderr",
     "output_type": "stream",
     "text": [
      "Using TensorFlow backend.\n"
     ]
    }
   ],
   "source": [
    "%pylab inline\n",
    "\n",
    "import os\n",
    "import scipy.io\n",
    "import numpy as np\n",
    "from keras.models import Sequential\n",
    "from keras.layers import Convolution2D, Dense, Dropout, Flatten, MaxPooling2D\n",
    "from keras.utils import np_utils\n",
    "from keras.optimizers import Adam\n",
    "\n",
    "\n"
   ]
  },
  {
   "cell_type": "code",
   "execution_count": 2,
   "metadata": {
    "collapsed": false
   },
   "outputs": [],
   "source": [
    "######################### load file - data ####################\n",
    "\n",
    "#Go to the data directory \n",
    "os.chdir('C:\\Liliana')\n",
    "load_data = scipy.io.loadmat('Calcium_signalling_decisions_1000cells.mat')\n",
    "\n"
   ]
  },
  {
   "cell_type": "code",
   "execution_count": 3,
   "metadata": {
    "collapsed": false
   },
   "outputs": [
    {
     "name": "stdout",
     "output_type": "stream",
     "text": [
      "1000\n",
      "900\n"
     ]
    }
   ],
   "source": [
    "#Define variables \n",
    "total = len(load_data['cell_classified'][0])\n",
    "print(total)\n",
    "Int_profile_len = len(load_data['cell_classified'][0,0]['intensity'][0])\n",
    "print(Int_profile_len)"
   ]
  },
  {
   "cell_type": "code",
   "execution_count": 4,
   "metadata": {
    "collapsed": false
   },
   "outputs": [
    {
     "name": "stdout",
     "output_type": "stream",
     "text": [
      "(1000, 900)\n"
     ]
    }
   ],
   "source": [
    "#Matrix for intensity values\n",
    "data = np.zeros((total,Int_profile_len))\n",
    "print(data.shape)\n",
    "for i in range(0,Int_profile_len):\n",
    "    data[i,:] = load_data['cell_classified'][0,i]['intensity']\n",
    "\n"
   ]
  },
  {
   "cell_type": "code",
   "execution_count": 5,
   "metadata": {
    "collapsed": false
   },
   "outputs": [
    {
     "name": "stdout",
     "output_type": "stream",
     "text": [
      "(1000,)\n"
     ]
    }
   ],
   "source": [
    "#Array for the classes \n",
    "classes = load_data['cell_classified'][0]['decision'].astype(int)\n",
    "print(classes.shape)"
   ]
  },
  {
   "cell_type": "code",
   "execution_count": 6,
   "metadata": {
    "collapsed": false
   },
   "outputs": [
    {
     "name": "stdout",
     "output_type": "stream",
     "text": [
      "(990, 900)\n",
      "(990,)\n"
     ]
    },
    {
     "data": {
      "text/plain": [
       "[<matplotlib.lines.Line2D at 0x21d8b4344e0>]"
      ]
     },
     "execution_count": 6,
     "metadata": {},
     "output_type": "execute_result"
    },
    {
     "data": {
      "image/png": "[encoded data removed]",
      "text/plain": [
       "<matplotlib.figure.Figure at 0x21d8b371860>"
      ]
     },
     "metadata": {},
     "output_type": "display_data"
    }
   ],
   "source": [
    "#Elimate intensity profiles with NaN values and corresponding classes\n",
    "nan_indices = np.where(np.isnan(data))\n",
    "\n",
    "data = np.delete(data,nan_indices[0], axis = 0)\n",
    "classes = np.delete(classes,nan_indices[0], axis = 0)\n",
    "\n",
    "print(data.shape)\n",
    "print(classes.shape)\n",
    "\n",
    "#Redefine the total number of data\n",
    "total = len(data)\n",
    "\n",
    "\n",
    "plot(data[6])"
   ]
  },
  {
   "cell_type": "code",
   "execution_count": 7,
   "metadata": {
    "collapsed": false
   },
   "outputs": [
    {
     "data": {
      "text/plain": [
       "'### SCALE THE INTENSITY VALUES\\ndata_scaled = np.zeros((total,Int_profile_len))\\nfor i in range(total):\\n    data_scaled[i,:] = (data[i,:] - np.mean(data[i,:]))\\n    data_scaled[i,:] = data_scaled[i,:]/np.std(data_scaled[i,:])\\n\\nplot(data_scaled[6])'"
      ]
     },
     "execution_count": 7,
     "metadata": {},
     "output_type": "execute_result"
    }
   ],
   "source": [
    "\"\"\"### SCALE THE INTENSITY VALUES\n",
    "data_scaled = np.zeros((total,Int_profile_len))\n",
    "for i in range(total):\n",
    "    data_scaled[i,:] = (data[i,:] - np.mean(data[i,:]))\n",
    "    data_scaled[i,:] = data_scaled[i,:]/np.std(data_scaled[i,:])\n",
    "\n",
    "plot(data_scaled[6])\"\"\" #GOT NAN"
   ]
  },
  {
   "cell_type": "code",
   "execution_count": 7,
   "metadata": {
    "collapsed": false
   },
   "outputs": [
    {
     "name": "stdout",
     "output_type": "stream",
     "text": [
      "data shape (990, 256)\n"
     ]
    },
    {
     "data": {
      "text/plain": [
       "[<matplotlib.lines.Line2D at 0x21d8b825c18>]"
      ]
     },
     "execution_count": 7,
     "metadata": {},
     "output_type": "execute_result"
    },
    {
     "data": {
      "image/png": "[encoded data removed]",
      "text/plain": [
       "<matplotlib.figure.Figure at 0x21d8b371550>"
      ]
     },
     "metadata": {},
     "output_type": "display_data"
    }
   ],
   "source": [
    "### Downsampling\n",
    "data1 = data[:,0:768]\n",
    "\n",
    "step = 3\n",
    "data_downsampl = data1[:,::step]\n",
    "print('data shape', data_downsampl.shape)\n",
    "\n",
    "#Redefine len of the Intensity curves:\n",
    "Int_profile_len = len(data_downsampl[0])\n",
    "\n",
    "plot(data_downsampl[6])"
   ]
  },
  {
   "cell_type": "code",
   "execution_count": 8,
   "metadata": {
    "collapsed": false
   },
   "outputs": [
    {
     "name": "stdout",
     "output_type": "stream",
     "text": [
      "total 990\n",
      "(990,)\n",
      "(990,)\n",
      "(990, 256)\n"
     ]
    }
   ],
   "source": [
    "#Distribute all values randomly\n",
    "print('total',total)\n",
    "randseq = np.random.choice(np.arange(0,total),total,replace=False)\n",
    "\n",
    "print(randseq.shape)\n",
    "#Data randomly organized\n",
    "data_downsampl = data_downsampl[randseq,:]\n",
    "classes = classes[randseq]\n",
    "\n",
    "print(classes.shape)\n",
    "print(data_downsampl.shape)\n"
   ]
  },
  {
   "cell_type": "code",
   "execution_count": 10,
   "metadata": {
    "collapsed": false
   },
   "outputs": [
    {
     "name": "stdout",
     "output_type": "stream",
     "text": [
      "shape y (800,)\n",
      "train_dt shape (800, 256)\n",
      "N of training data 800\n",
      "len intensity 256\n"
     ]
    }
   ],
   "source": [
    "######################### load file - training data ####################\n",
    "\n",
    "train_dt = data_downsampl[0:800,:]\n",
    "train_cl = classes[0:800]\n",
    "\n",
    "X = train_dt#np.random.rand(10000, 128).astype(\"float32\")\n",
    "y = train_cl #np.random.randint(3, size=(10000,1))\n",
    "\n",
    "print('shape y', y.shape)\n",
    "print('train_dt shape', train_dt.shape)\n",
    "\n",
    "N_train_cell = len(train_dt)\n",
    "\n",
    "print('N of training data', N_train_cell)\n",
    "print('len intensity', Int_profile_len)\n",
    "\n",
    "# process the data to fit in a keras CNN properly\n",
    "# input data needs to be (N, C, X, Y) - shaped where\n",
    "# N - number of samples\n",
    "# C - number of channels per sample\n",
    "# (X, Y) - sample size\n",
    "\n",
    "\n",
    "X = X.reshape((N_train_cell, Int_profile_len,1, 1))\n",
    "y = np_utils.to_categorical(y)\n",
    "\n",
    "#print(y)\n"
   ]
  },
  {
   "cell_type": "code",
   "execution_count": 11,
   "metadata": {
    "collapsed": false
   },
   "outputs": [
    {
     "name": "stdout",
     "output_type": "stream",
     "text": [
      "N_test_cell = 190\n",
      "(190, 256)\n",
      "(190,)\n"
     ]
    }
   ],
   "source": [
    "######################### load file - testing data ####################\n",
    "\n",
    "#Define variables \n",
    "N_test_cell = total - N_train_cell\n",
    "\n",
    "\n",
    "print('N_test_cell =', N_test_cell)\n",
    "\n",
    "\n",
    "#Matrix for intensity values\n",
    "test_dt = np.zeros((N_test_cell,Int_profile_len))\n",
    "\n",
    "#Use as testing data the last N_test_cell values within the total \n",
    "test_dt[:,:]= data_downsampl[N_train_cell:total]\n",
    "\n",
    "#Same process for the associated classes\n",
    "test_cl = classes[N_train_cell:total]\n",
    "\n",
    "\n",
    "print(test_dt.shape)\n",
    "print(test_cl.shape)\n"
   ]
  },
  {
   "cell_type": "code",
   "execution_count": 38,
   "metadata": {
    "collapsed": false
   },
   "outputs": [],
   "source": [
    "# define a CNN\n",
    "# see http://keras.io for API reference\n",
    "\n",
    "def CNN():\n",
    "    cnn = Sequential()\n",
    "    cnn.add(Convolution2D(64, (3, 1),activation=\"relu\",input_shape=(Int_profile_len,1, 1),padding=\"same\"))\n",
    "    cnn.add(Convolution2D(64, (3, 1), activation=\"relu\", padding=\"same\"))\n",
    "    cnn.add(MaxPooling2D(pool_size=(2,1)))\n",
    "\n",
    "    #border_mode = same => output size is the same of input size. The filter does not go outside the bounds of the input\n",
    "    #ReLU => thresholding at zero. All the negative values will be = 0, values bigger than zero will mantain the same value.\n",
    "    cnn.add(Convolution2D(128, (3, 1), activation=\"relu\", padding=\"same\"))\n",
    "    cnn.add(Convolution2D(128, (3, 1), activation=\"relu\", padding=\"same\"))\n",
    "    cnn.add(Convolution2D(128, (3, 1), activation=\"relu\", padding=\"same\"))\n",
    "    cnn.add(MaxPooling2D(pool_size=(2,1)))\n",
    "\n",
    "    cnn.add(Convolution2D(256, (3, 1), activation=\"relu\", padding=\"same\"))\n",
    "    cnn.add(Convolution2D(256, (3, 1), activation=\"relu\", padding=\"same\"))\n",
    "    cnn.add(Convolution2D(256, (3, 1), activation=\"relu\", padding=\"same\"))\n",
    "    cnn.add(MaxPooling2D(pool_size=(2,1)))\n",
    "\n",
    "    cnn.add(Flatten())\n",
    "    cnn.add(Dense(1024, activation=\"relu\"))\n",
    "    cnn.add(Dropout(0.5)) \n",
    "    cnn.add(Dense(6, activation=\"softmax\"))\n",
    "\n",
    "    # define optimizer and objective, compile cnn\n",
    "\n",
    "    cnn.compile(loss=\"categorical_crossentropy\", optimizer=Adam(lr=0.0001, beta_1=0.9, beta_2=0.999, epsilon=1e-08, decay=0.0001))\n",
    "    #default parameters coming from the paper: https://arxiv.org/abs/1412.6980v8\n",
    "    \n",
    "    #train\n",
    "    cnn.fit(X, y, epochs=200, batch_size = 20, verbose = 2)\n",
    "    \n",
    "    #Evaluation code which makes prediction\n",
    "    out = cnn.predict(test_dt.reshape((N_test_cell, Int_profile_len,1, 1)))\n",
    "    \n",
    "    \n",
    "    return out"
   ]
  },
  {
   "cell_type": "code",
   "execution_count": 39,
   "metadata": {
    "collapsed": false,
    "scrolled": false
   },
   "outputs": [
    {
     "name": "stdout",
     "output_type": "stream",
     "text": [
      "0\n",
      "Epoch 1/200\n",
      "15s - loss: 1.3202\n",
      "Epoch 2/200\n",
      "16s - loss: 1.0378\n",
      "Epoch 3/200\n",
      "16s - loss: 0.9995\n",
      "Epoch 4/200\n",
      "15s - loss: 0.9257\n",
      "Epoch 5/200\n",
      "15s - loss: 0.8739\n",
      "Epoch 6/200\n",
      "15s - loss: 0.7569\n",
      "Epoch 7/200\n",
      "15s - loss: 0.6745\n",
      "Epoch 8/200\n",
      "14s - loss: 0.6270\n",
      "Epoch 9/200\n",
      "15s - loss: 0.5536\n",
      "Epoch 10/200\n",
      "15s - loss: 0.5259\n",
      "Epoch 11/200\n",
      "16s - loss: 0.4758\n",
      "Epoch 12/200\n",
      "15s - loss: 0.4680\n",
      "Epoch 13/200\n",
      "15s - loss: 0.4421\n",
      "Epoch 14/200\n",
      "15s - loss: 0.4244\n",
      "Epoch 15/200\n",
      "15s - loss: 0.4047\n",
      "Epoch 16/200\n",
      "15s - loss: 0.3960\n",
      "Epoch 17/200\n",
      "15s - loss: 0.3769\n",
      "Epoch 18/200\n",
      "14s - loss: 0.3610\n",
      "Epoch 19/200\n",
      "16s - loss: 0.3698\n",
      "Epoch 20/200\n",
      "14s - loss: 0.3620\n",
      "Epoch 21/200\n",
      "16s - loss: 0.3345\n",
      "Epoch 22/200\n",
      "17s - loss: 0.3231\n",
      "Epoch 23/200\n",
      "14s - loss: 0.3011\n",
      "Epoch 24/200\n",
      "15s - loss: 0.3090\n",
      "Epoch 25/200\n",
      "16s - loss: 0.3377\n",
      "Epoch 26/200\n",
      "15s - loss: 0.2946\n",
      "Epoch 27/200\n",
      "15s - loss: 0.2801\n",
      "Epoch 28/200\n",
      "15s - loss: 0.2671\n",
      "Epoch 29/200\n",
      "14s - loss: 0.2640\n",
      "Epoch 30/200\n",
      "14s - loss: 0.3227\n",
      "Epoch 31/200\n",
      "14s - loss: 0.2591\n",
      "Epoch 32/200\n",
      "15s - loss: 0.2517\n",
      "Epoch 33/200\n",
      "15s - loss: 0.2595\n",
      "Epoch 34/200\n",
      "16s - loss: 0.2828\n",
      "Epoch 35/200\n",
      "15s - loss: 0.2317\n",
      "Epoch 36/200\n",
      "15s - loss: 0.2365\n",
      "Epoch 37/200\n",
      "15s - loss: 0.2355\n",
      "Epoch 38/200\n",
      "14s - loss: 0.2409\n",
      "Epoch 39/200\n",
      "14s - loss: 0.2220\n",
      "Epoch 40/200\n",
      "14s - loss: 0.2234\n",
      "Epoch 41/200\n",
      "14s - loss: 0.2517\n",
      "Epoch 42/200\n",
      "14s - loss: 0.2096\n",
      "Epoch 43/200\n",
      "14s - loss: 0.2060\n",
      "Epoch 44/200\n",
      "14s - loss: 0.1999\n",
      "Epoch 45/200\n",
      "14s - loss: 0.1904\n",
      "Epoch 46/200\n",
      "14s - loss: 0.1810\n",
      "Epoch 47/200\n",
      "14s - loss: 0.1899\n",
      "Epoch 48/200\n",
      "14s - loss: 0.1968\n",
      "Epoch 49/200\n",
      "14s - loss: 0.1834\n",
      "Epoch 50/200\n",
      "14s - loss: 0.1723\n",
      "Epoch 51/200\n",
      "15s - loss: 0.1897\n",
      "Epoch 52/200\n",
      "15s - loss: 0.1776\n",
      "Epoch 53/200\n",
      "15s - loss: 0.1588\n",
      "Epoch 54/200\n",
      "20s - loss: 0.1678\n",
      "Epoch 55/200\n",
      "29s - loss: 0.1624\n",
      "Epoch 56/200\n",
      "27s - loss: 0.1540\n",
      "Epoch 57/200\n",
      "26s - loss: 0.1618\n",
      "Epoch 58/200\n",
      "29s - loss: 0.1789\n",
      "Epoch 59/200\n",
      "33s - loss: 0.1629\n",
      "Epoch 60/200\n",
      "26s - loss: 0.1686\n",
      "Epoch 61/200\n",
      "14s - loss: 0.1859\n",
      "Epoch 62/200\n",
      "14s - loss: 0.1501\n",
      "Epoch 63/200\n",
      "14s - loss: 0.1456\n",
      "Epoch 64/200\n",
      "14s - loss: 0.1372\n",
      "Epoch 65/200\n",
      "14s - loss: 0.1561\n",
      "Epoch 66/200\n",
      "14s - loss: 0.1627\n",
      "Epoch 67/200\n",
      "14s - loss: 0.1283\n",
      "Epoch 68/200\n",
      "14s - loss: 0.1337\n",
      "Epoch 69/200\n",
      "14s - loss: 0.1313\n",
      "Epoch 70/200\n",
      "14s - loss: 0.1314\n",
      "Epoch 71/200\n",
      "14s - loss: 0.1297\n",
      "Epoch 72/200\n",
      "14s - loss: 0.1313\n",
      "Epoch 73/200\n",
      "14s - loss: 0.1377\n",
      "Epoch 74/200\n",
      "14s - loss: 0.1335\n",
      "Epoch 75/200\n",
      "14s - loss: 0.1356\n",
      "Epoch 76/200\n",
      "14s - loss: 0.1305\n",
      "Epoch 77/200\n",
      "15s - loss: 0.1253\n",
      "Epoch 78/200\n",
      "14s - loss: 0.1282\n",
      "Epoch 79/200\n",
      "14s - loss: 0.1344\n",
      "Epoch 80/200\n",
      "14s - loss: 0.1258\n",
      "Epoch 81/200\n",
      "14s - loss: 0.1150\n",
      "Epoch 82/200\n",
      "14s - loss: 0.1179\n",
      "Epoch 83/200\n",
      "15s - loss: 0.1161\n",
      "Epoch 84/200\n",
      "14s - loss: 0.1218\n",
      "Epoch 85/200\n",
      "14s - loss: 0.1190\n",
      "Epoch 86/200\n",
      "16s - loss: 0.1335\n",
      "Epoch 87/200\n",
      "15s - loss: 0.1154\n",
      "Epoch 88/200\n",
      "14s - loss: 0.1168\n",
      "Epoch 89/200\n",
      "15s - loss: 0.1358\n",
      "Epoch 90/200\n",
      "15s - loss: 0.1215\n",
      "Epoch 91/200\n",
      "15s - loss: 0.1173\n",
      "Epoch 92/200\n",
      "15s - loss: 0.1091\n",
      "Epoch 93/200\n",
      "14s - loss: 0.1078\n",
      "Epoch 94/200\n",
      "15s - loss: 0.1110\n",
      "Epoch 95/200\n",
      "16s - loss: 0.1030\n",
      "Epoch 96/200\n",
      "15s - loss: 0.1071\n",
      "Epoch 97/200\n",
      "15s - loss: 0.1073\n",
      "Epoch 98/200\n",
      "14s - loss: 0.1134\n",
      "Epoch 99/200\n",
      "14s - loss: 0.1049\n",
      "Epoch 100/200\n",
      "14s - loss: 0.1101\n",
      "Epoch 101/200\n",
      "14s - loss: 0.1430\n",
      "Epoch 102/200\n",
      "14s - loss: 0.1801\n",
      "Epoch 103/200\n",
      "14s - loss: 0.1197\n",
      "Epoch 104/200\n",
      "14s - loss: 0.1251\n",
      "Epoch 105/200\n",
      "14s - loss: 0.1252\n",
      "Epoch 106/200\n",
      "14s - loss: 0.1290\n",
      "Epoch 107/200\n",
      "14s - loss: 0.1082\n",
      "Epoch 108/200\n",
      "14s - loss: 0.0989\n",
      "Epoch 109/200\n",
      "14s - loss: 0.0989\n",
      "Epoch 110/200\n",
      "14s - loss: 0.1044\n",
      "Epoch 111/200\n",
      "14s - loss: 0.1148\n",
      "Epoch 112/200\n",
      "14s - loss: 0.1056\n",
      "Epoch 113/200\n",
      "14s - loss: 0.0993\n",
      "Epoch 114/200\n",
      "14s - loss: 0.1022\n",
      "Epoch 115/200\n",
      "14s - loss: 0.0992\n",
      "Epoch 116/200\n",
      "14s - loss: 0.1044\n",
      "Epoch 117/200\n",
      "14s - loss: 0.1114\n",
      "Epoch 118/200\n",
      "14s - loss: 0.1129\n",
      "Epoch 119/200\n",
      "14s - loss: 0.1018\n",
      "Epoch 120/200\n",
      "13s - loss: 0.1084\n",
      "Epoch 121/200\n",
      "14s - loss: 0.1018\n",
      "Epoch 122/200\n",
      "13s - loss: 0.1038\n",
      "Epoch 123/200\n",
      "13s - loss: 0.1204\n",
      "Epoch 124/200\n",
      "14s - loss: 0.1086\n",
      "Epoch 125/200\n",
      "14s - loss: 0.1138\n",
      "Epoch 126/200\n",
      "14s - loss: 0.1042\n",
      "Epoch 127/200\n",
      "14s - loss: 0.1019\n",
      "Epoch 128/200\n",
      "14s - loss: 0.1072\n",
      "Epoch 129/200\n",
      "15s - loss: 0.1400\n",
      "Epoch 130/200\n",
      "15s - loss: 0.1231\n",
      "Epoch 131/200\n",
      "15s - loss: 0.1127\n",
      "Epoch 132/200\n",
      "14s - loss: 0.1043\n",
      "Epoch 133/200\n",
      "14s - loss: 0.1096\n",
      "Epoch 134/200\n",
      "13s - loss: 0.1043\n",
      "Epoch 135/200\n",
      "13s - loss: 0.0997\n",
      "Epoch 136/200\n",
      "14s - loss: 0.0958\n",
      "Epoch 137/200\n",
      "14s - loss: 0.0939\n",
      "Epoch 138/200\n",
      "14s - loss: 0.0954\n",
      "Epoch 139/200\n",
      "14s - loss: 0.0973\n",
      "Epoch 140/200\n",
      "14s - loss: 0.1004\n",
      "Epoch 141/200\n",
      "14s - loss: 0.0912\n",
      "Epoch 142/200\n",
      "14s - loss: 0.0993\n",
      "Epoch 143/200\n",
      "14s - loss: 0.0896\n",
      "Epoch 144/200\n",
      "14s - loss: 0.0992\n",
      "Epoch 145/200\n",
      "14s - loss: 0.1038\n",
      "Epoch 146/200\n",
      "14s - loss: 0.1189\n",
      "Epoch 147/200\n",
      "14s - loss: 0.0964\n",
      "Epoch 148/200\n",
      "14s - loss: 0.0914\n",
      "Epoch 149/200\n",
      "14s - loss: 0.0913\n",
      "Epoch 150/200\n",
      "14s - loss: 0.0927\n",
      "Epoch 151/200\n",
      "14s - loss: 0.0932\n",
      "Epoch 152/200\n",
      "14s - loss: 0.0917\n",
      "Epoch 153/200\n",
      "17s - loss: 0.0911\n",
      "Epoch 154/200\n",
      "15s - loss: 0.0933\n",
      "Epoch 155/200\n",
      "14s - loss: 0.0999\n",
      "Epoch 156/200\n",
      "14s - loss: 0.1201\n",
      "Epoch 157/200\n",
      "14s - loss: 0.1076\n",
      "Epoch 158/200\n",
      "14s - loss: 0.1002\n",
      "Epoch 159/200\n",
      "14s - loss: 0.1009\n",
      "Epoch 160/200\n",
      "16s - loss: 0.0928\n",
      "Epoch 161/200\n",
      "15s - loss: 0.0908\n",
      "Epoch 162/200\n",
      "14s - loss: 0.0947\n",
      "Epoch 163/200\n",
      "16s - loss: 0.0969\n",
      "Epoch 164/200\n",
      "15s - loss: 0.1362\n",
      "Epoch 165/200\n",
      "16s - loss: 0.1008\n",
      "Epoch 166/200\n",
      "16s - loss: 0.0929\n",
      "Epoch 167/200\n",
      "16s - loss: 0.0919\n",
      "Epoch 168/200\n",
      "15s - loss: 0.0870\n",
      "Epoch 169/200\n",
      "16s - loss: 0.0893\n",
      "Epoch 170/200\n",
      "15s - loss: 0.0920\n",
      "Epoch 171/200\n",
      "16s - loss: 0.0946\n",
      "Epoch 172/200\n",
      "15s - loss: 0.0884\n",
      "Epoch 173/200\n",
      "17s - loss: 0.0889\n",
      "Epoch 174/200\n",
      "15s - loss: 0.0897\n",
      "Epoch 175/200\n",
      "14s - loss: 0.0868\n",
      "Epoch 176/200\n",
      "16s - loss: 0.0896\n",
      "Epoch 177/200\n",
      "15s - loss: 0.0954\n",
      "Epoch 178/200\n",
      "16s - loss: 0.0959\n",
      "Epoch 179/200\n",
      "15s - loss: 0.0911\n",
      "Epoch 180/200\n",
      "15s - loss: 0.0911\n",
      "Epoch 181/200\n",
      "16s - loss: 0.0904\n",
      "Epoch 182/200\n",
      "15s - loss: 0.0865\n",
      "Epoch 183/200\n",
      "15s - loss: 0.0868\n",
      "Epoch 184/200\n",
      "15s - loss: 0.0893\n",
      "Epoch 185/200\n",
      "16s - loss: 0.0858\n",
      "Epoch 186/200\n",
      "16s - loss: 0.0890\n",
      "Epoch 187/200\n",
      "16s - loss: 0.0984\n",
      "Epoch 188/200\n",
      "15s - loss: 0.0893\n",
      "Epoch 189/200\n",
      "16s - loss: 0.0898\n",
      "Epoch 190/200\n",
      "18s - loss: 0.0895\n",
      "Epoch 191/200\n",
      "15s - loss: 0.0866\n",
      "Epoch 192/200\n",
      "16s - loss: 0.0895\n",
      "Epoch 193/200\n",
      "16s - loss: 0.0942\n",
      "Epoch 194/200\n",
      "16s - loss: 0.0871\n",
      "Epoch 195/200\n",
      "14s - loss: 0.0867\n",
      "Epoch 196/200\n",
      "15s - loss: 0.0907\n",
      "Epoch 197/200\n",
      "14s - loss: 0.1095\n",
      "Epoch 198/200\n",
      "15s - loss: 0.1510\n",
      "Epoch 199/200\n",
      "15s - loss: 0.1214\n",
      "Epoch 200/200\n",
      "14s - loss: 0.1004\n",
      "[ 77.89473684]\n"
     ]
    }
   ],
   "source": [
    "iterations = 1\n",
    "confidence_array = np.zeros(iterations)\n",
    "for i in range(iterations):\n",
    "    print(i)\n",
    "    out = CNN()\n",
    "    confidence_array[i] = (float(np.sum(np.argmax(out,1)==test_cl))/float(test_cl.shape[0])*100.0)\n",
    "\n",
    "\n",
    "\n",
    "print(confidence_array)    "
   ]
  },
  {
   "cell_type": "code",
   "execution_count": 46,
   "metadata": {
    "collapsed": false
   },
   "outputs": [
    {
     "name": "stdout",
     "output_type": "stream",
     "text": [
      "Populating the interactive namespace from numpy and matplotlib\n",
      "[  7.30342380e-17   9.99853253e-01   1.28818510e-05   1.01285608e-14\n",
      "   1.52915630e-13   1.33826135e-04]\n",
      "2\n",
      "77.89473684210526\n"
     ]
    }
   ],
   "source": [
    "%pylab inline\n",
    "print(out[0])\n",
    "print(test_cl[0])\n",
    "\n",
    "print(float(np.sum(np.argmax(out,1)==test_cl))/float(test_cl.shape[0])*100.0)"
   ]
  },
  {
   "cell_type": "code",
   "execution_count": 48,
   "metadata": {
    "collapsed": false
   },
   "outputs": [
    {
     "data": {
      "image/png": "[encoded data removed]",
      "text/plain": [
       "<matplotlib.figure.Figure at 0x21dc662e208>"
      ]
     },
     "metadata": {},
     "output_type": "display_data"
    }
   ],
   "source": [
    "# Create plots with pre-defined labels.\n",
    "fig, ax = plt.subplots()\n",
    "for i in range(15,19):\n",
    "    if test_cl[i] == 1:\n",
    "        ax.plot(test_dt[i,:], label='Trig+Sing')\n",
    "    if test_cl[i] == 2:\n",
    "        ax.plot(test_dt[i,:], label='Trig+Osc')\n",
    "    if test_cl[i] == 3:\n",
    "        ax.plot(test_dt[i,:], label='Trig+Sust')\n",
    "    if test_cl[i] == 4:\n",
    "        ax.plot(test_dt[i,:], label='No-Trig')\n",
    "    if test_cl[i] == 5:\n",
    "        ax.plot(test_dt[i,:], label='Not Sure')\n",
    "    legend = plt.legend(loc='upper right', shadow=True, fontsize='x-large')\n"
   ]
  },
  {
   "cell_type": "code",
   "execution_count": null,
   "metadata": {
    "collapsed": true
   },
   "outputs": [],
   "source": [
    "\"\"\"    if test_cl[i] == 1:\n",
    "        ax.plot(test_dt[i,:], 'b', label='Trig+Sing')\n",
    "    if test_cl[i] == 2:\n",
    "        ax.plot(test_dt[i,:], 'r', label='Trig+Osc')\n",
    "    if test_cl[i] == 3:\n",
    "        ax.plot(test_dt[i,:], 'c', label='Trig+Sust')\n",
    "    if test_cl[i] == 4:\n",
    "        ax.plot(test_dt[i,:], 'm', label='No-Trig')\n",
    "    if test_cl[i] == 5:\n",
    "        ax.plot(test_dt[i,:], 'y', label='Not Sure')\"\"\""
   ]
  },
  {
   "cell_type": "code",
   "execution_count": 37,
   "metadata": {
    "collapsed": false
   },
   "outputs": [
    {
     "data": {
      "text/plain": [
       "[<matplotlib.lines.Line2D at 0x21dc66cb5f8>]"
      ]
     },
     "execution_count": 37,
     "metadata": {},
     "output_type": "execute_result"
    },
    {
     "data": {
      "image/png": "[encoded data removed]",
      "text/plain": [
       "<matplotlib.figure.Figure at 0x21dc644fba8>"
      ]
     },
     "metadata": {},
     "output_type": "display_data"
    }
   ],
   "source": [
    "plot(out[:40,0])\n",
    "plot(out[:40,1])\n",
    "plot(out[:40,2])"
   ]
  }
 ],
 "metadata": {
  "kernelspec": {
   "display_name": "Python 3",
   "language": "python",
   "name": "python3"
  },
  "language_info": {
   "codemirror_mode": {
    "name": "ipython",
    "version": 3
   },
   "file_extension": ".py",
   "mimetype": "text/x-python",
   "name": "python",
   "nbconvert_exporter": "python",
   "pygments_lexer": "ipython3",
   "version": "3.6.0"
  }
 },
 "nbformat": 4,
 "nbformat_minor": 2
}
